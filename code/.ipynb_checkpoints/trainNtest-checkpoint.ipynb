{
 "cells": [
  {
   "cell_type": "code",
   "execution_count": 1,
   "metadata": {},
   "outputs": [],
   "source": [
    "import pandas;\n",
    "import numpy as np;\n",
    "import ast;\n",
    "import sklearn.tree as tree;\n",
    "from sklearn.metrics import roc_auc_score\n",
    "from sklearn.multiclass import OneVsRestClassifier\n",
    "from sklearn.svm import LinearSVC\n",
    "from sklearn.linear_model import LogisticRegression\n",
    "from sklearn.naive_bayes import GaussianNB, MultinomialNB, BernoulliNB\n",
    "from sklearn.tree import DecisionTreeClassifier\n",
    "from sklearn.neighbors import KNeighborsClassifier\n",
    "from sklearn.ensemble import RandomForestClassifier, GradientBoostingClassifier, AdaBoostClassifier\n",
    "from sklearn.neural_network import MLPClassifier\n",
    "from sklearn import datasets"
   ]
  },
  {
   "cell_type": "code",
   "execution_count": 2,
   "metadata": {},
   "outputs": [],
   "source": [
    "def readCSVFile(file):\n",
    "    data=pandas.read_csv(file,\",\",header=0, na_values='?', skipinitialspace=True);\n",
    "    return data;\n",
    "    pass;\n",
    "def readTrainData(dataset):    \n",
    "    return dataset.iloc[:,6:], dataset.iloc[:,4:5].astype(int),dataset.iloc[:,5:6];\n",
    "    pass;\n",
    "\n",
    "def readTestData(dataset):    \n",
    "    return dataset.iloc[:,6:], dataset.iloc[:,4:5].astype(int),dataset.iloc[:,5:6];\n",
    "    pass;\n",
    "\n",
    "def normalizePhi(unNormalizedPhi,last_col_bias=False):    \n",
    "    #assuming last column as bias column\n",
    "    no_of_column=len(unNormalizedPhi[0]);\n",
    "    phi=np.array(unNormalizedPhi);\n",
    "    std=phi.std(0);\n",
    "    mean=phi.mean(0);    \n",
    "    #std[no_of_column-1]=1;\n",
    "    #mean[no_of_column-1]=0;\n",
    "    #phi_normalize=(phi-mean)/std;    \n",
    "    \n",
    "    max_vector=phi.max(axis=0)\n",
    "    phi_normalize=phi/max_vector;    \n",
    "    \n",
    "    return phi_normalize;\n",
    "    pass;\n",
    "\n",
    "def categoryToNumber(dataset,categoryList):\n",
    "    for c in categoryList:\n",
    "        if (c in dataset):            \n",
    "            dataset[c]=pandas.get_dummies(dataset[c]).values.argmax(1);        \n",
    "    return dataset;\n",
    "    pass;\n",
    "    \n",
    "\n",
    "def handleCategoryData(dataset,categoryList):    \n",
    "        return categoryToNumber(dataset,categoryList)"
   ]
  },
  {
   "cell_type": "code",
   "execution_count": 3,
   "metadata": {},
   "outputs": [
    {
     "data": {
      "text/plain": [
       "array([0, 0, 0, 0, 0, 0, 0, 0, 0, 0, 0, 0, 0, 0, 0, 0, 0, 0, 0, 0, 0, 0,\n",
       "       0, 0, 0, 0, 0, 0, 0, 0, 0, 0, 0, 0, 0, 0, 0, 0, 0, 0, 0, 0, 0, 0,\n",
       "       0, 0, 0, 0, 0, 0, 1, 1, 1, 1, 1, 1, 1, 1, 1, 1, 1, 1, 1, 1, 1, 1,\n",
       "       1, 1, 1, 1, 2, 1, 1, 1, 1, 1, 1, 1, 1, 1, 1, 1, 1, 2, 2, 1, 1, 1,\n",
       "       1, 1, 1, 1, 1, 1, 1, 1, 1, 1, 1, 1, 2, 2, 2, 2, 2, 2, 2, 2, 2, 2,\n",
       "       2, 2, 2, 2, 2, 2, 2, 2, 2, 2, 2, 2, 2, 2, 2, 2, 2, 2, 2, 1, 2, 2,\n",
       "       2, 1, 2, 2, 2, 2, 2, 2, 2, 2, 2, 2, 2, 2, 2, 2, 2, 2])"
      ]
     },
     "execution_count": 3,
     "metadata": {},
     "output_type": "execute_result"
    }
   ],
   "source": [
    "iris = datasets.load_iris()\n",
    "X, y = iris.data, iris.target\n",
    "OneVsRestClassifier(LinearSVC(random_state=0,max_iter=4000)).fit(X, y).predict(X)"
   ]
  },
  {
   "cell_type": "code",
   "execution_count": 4,
   "metadata": {},
   "outputs": [
    {
     "name": "stderr",
     "output_type": "stream",
     "text": [
      "/home/yadnyesh/.local/lib/python3.6/site-packages/ipykernel_launcher.py:9: FutureWarning: Method .as_matrix will be removed in a future version. Use .values instead.\n",
      "  if __name__ == '__main__':\n",
      "/home/yadnyesh/.local/lib/python3.6/site-packages/ipykernel_launcher.py:10: FutureWarning: Method .as_matrix will be removed in a future version. Use .values instead.\n",
      "  # Remove the CWD from sys.path while we load stuff.\n",
      "/home/yadnyesh/.local/lib/python3.6/site-packages/ipykernel_launcher.py:11: FutureWarning: Method .as_matrix will be removed in a future version. Use .values instead.\n",
      "  # This is added back by InteractiveShellApp.init_path()\n",
      "/home/yadnyesh/.local/lib/python3.6/site-packages/ipykernel_launcher.py:17: FutureWarning: Method .as_matrix will be removed in a future version. Use .values instead.\n",
      "/home/yadnyesh/.local/lib/python3.6/site-packages/ipykernel_launcher.py:18: FutureWarning: Method .as_matrix will be removed in a future version. Use .values instead.\n",
      "/home/yadnyesh/.local/lib/python3.6/site-packages/ipykernel_launcher.py:19: FutureWarning: Method .as_matrix will be removed in a future version. Use .values instead.\n"
     ]
    }
   ],
   "source": [
    "dir=\"./\"\n",
    "trainFile=dir+\"train.csv\";\n",
    "testFile=dir+\"test.csv\";\n",
    "trained_dataset=readCSVFile(trainFile);\n",
    "test_dataset=readCSVFile(testFile);\n",
    "trained_data,trained_y,trained_y_vector=readTrainData(trained_dataset);\n",
    "test_data,test_y,test_y_vector=readTestData(test_dataset);\n",
    "\n",
    "mtx_train =trained_data.as_matrix(columns=None)\n",
    "mtx_train_y  =trained_y.as_matrix(columns=None)\n",
    "mtx_trained_y_vector=trained_y_vector.as_matrix(columns=None);\n",
    "\n",
    "mtx_train_norm=normalizePhi(mtx_train);\n",
    "mtx_train_y=np.array(list((e[0] for e in mtx_train_y)));\n",
    "mtx_trained_y_vector=np.array(list((ast.literal_eval(e[0]) for e in mtx_trained_y_vector)));\n",
    "\n",
    "mtx_test=test_data.as_matrix(columns=None);\n",
    "mtx_test_y=test_y.as_matrix(columns=None);\n",
    "mtx_test_y_vector=test_y_vector.as_matrix(columns=None);\n",
    "\n",
    "mtx_test_norm=normalizePhi(mtx_test);\n",
    "mtx_test_y=np.array(list((e[0] for e in mtx_test_y)));\n",
    "mtx_test_y_vector=np.array(list((ast.literal_eval(e[0]) for e in mtx_test_y_vector)));"
   ]
  },
  {
   "cell_type": "code",
   "execution_count": 5,
   "metadata": {},
   "outputs": [
    {
     "name": "stdout",
     "output_type": "stream",
     "text": [
      "[5 9 7 9 8 6 6 9 1 9 9 8 7 7 9 1 9 9 7 6 9 6 2 9 9 5 1 1 9 9 6 9 9 0 7 9 9\n",
      " 5 9 0 7 7 9 7 1 9 5 8 8 1 9 7 6 9 6 9 7 7 1 9 9 9 7 1 9 9 1 8 7 8 9 9 7 5\n",
      " 9 9 7 9 7 7 1 0 6 7 9 9 9 1 5 0 7 9 9 9 1 7 9 1 7 9 5 0 9 6 7 6 9 1 5 6 1\n",
      " 5 8 0 9 9 6 9 5 7 1 9 1 9 7 9 9 9 1 8 9 1 9 7 5 5 7 1 9 6 9 1 5 7 7 8 1 5\n",
      " 9 8 7 9 9 1 7 9 6 7 0 0 1 5 7 7 9 2 5 7 7 9 7 0 6 1 9 9 1 1 9 1 9 7 1 5 4\n",
      " 1 6 8 9 7 1 8 1 6 0 9 9 9 9 9 9 9 6 6 4 8 9 9 8 6 7 6 8 1 7 1 9 5 6 6 1 1\n",
      " 9 9 7 7 7 9 5 6 7 7 9 0 0 1 9 8 5 2 7 9 9 7 1 7 7 0 9 5 9 7 9 7 6 8 5 7 1\n",
      " 1 9 9 9 7 6 7 5 7 1 7 7 9 4 1 9 7 1 9 6 9 1 9 6 7 1 7 1 9 7 1 1 6 5 6 1 6\n",
      " 9 1 9 9 1 0 5 7 9 9 7 4 1 9 6 7 7 9 5 9 6 9 9 7 8 5 8 0 9 9 9 7 5 9 1 9 5\n",
      " 7 9 1 9 9 9 7 9 9 8 0 9 7 9 9 9 9 9 1 9 9 9 7 9 5 9 9 7 4 1 9 9 1 9 6 1 9\n",
      " 1 9 6 1 7 9 7 1 8 9 1 1 7 6 9 7 9 7 6 7 9 9 7 9 9 5 9 7 7 9 8 6 6 7 7 5 9\n",
      " 9 8 9 1 9 0 9 7 0 7 9 4 7 8 1 2 7 7 0 6 6 5 9 9 7 9 9 9 2 9 7 9 5 6 9 9 7\n",
      " 9 9 6 8 5 6 9 7 9 9 9 1 6 7 6 5 9 9 9 7 7 7 0 8 9 9 9 9 5 6 9 5 9 6 7 9 7\n",
      " 5 6 9 0 6 6 7 0 9 8 6 6 9 5 1 7 7 0 9 9 0 0 1 1 9 9 9 6 9 5 8 9 9 9 9 7 9\n",
      " 9 9 9 0 7 5 9 5 6 9 0 1 7 7 6 5 7 9 1 1 8 7 7 1 0 5 9 7 5 9 7 7 8 5 9 5 6\n",
      " 6 6 9 9 1 1 8 1 9 9 9 7 7 4 7 0 9 7 5 9 0 1 7 2 9 1 5 9 1 9 9 7 1 7 1 0 9\n",
      " 8 9 1 9 9 7 9 9 9 9 7 1 7 1 9 1 6 9 9 5 7 7 9 7 9 6 5 6 7 6 6 6 8 1 1 7 9\n",
      " 6 6 7 1 1 9 7 9 1 1 9 5 9 7 0 1 8 0 1 7 7 5 9 7 6 1 5 8 9 7 9 9 9 7 7 8 7\n",
      " 9 7 7 0 7 8 9 9 1 9 9 7 6 9 0 5 9 7 7 9 5 1 9 7 9 6 5 1 9 1 6 7 7 9 8 5 8\n",
      " 7 0 7 6 7 9 5 9 9 1 7 9 1 9 9 6 1 4 9 9 7 2 6 9 5 1 5 9 0 7 7 5 1 9 9 6 9\n",
      " 7 9 6 9 9 9 9 9 1 1 1 0 7 9 9 7 0 8 7 8 6 7 1 1 1 1 1 7 1 1 5 7 1 9 7 9 9\n",
      " 8 6 9 9 7 9 8 6 9 5 4 6 0 9 7 9 9 0 9 7 0 5 9 1 7 7 9 8 9 5 9 1 9 6 9 6 9\n",
      " 0 7 1 9 9 7 0 9 9 7 5 6 1 5 5 7 9 1 9 8 0 9 5 5 6 5 9 5 5 9 9 5 6 5 1 9 7\n",
      " 7 1 9 1 7 6 1 7 9 7 8 6 1 9 5 9 7 8 5 9 7 0 6 7 7 9 0 9 9 1 8 8 6 8 9 7 8\n",
      " 1 1 9 5 1 7 0 6 7 1 9 5 9]\n",
      "done\n"
     ]
    },
    {
     "name": "stderr",
     "output_type": "stream",
     "text": [
      "/home/yadnyesh/.local/lib/python3.6/site-packages/sklearn/svm/base.py:929: ConvergenceWarning: Liblinear failed to converge, increase the number of iterations.\n",
      "  \"the number of iterations.\", ConvergenceWarning)\n"
     ]
    }
   ],
   "source": [
    "# #trainedModel=OneVsRestClassifier(LinearSVC()).fit(mtx_train, mtx_train_y);\n",
    "# trainedModel=LinearSVC(max_iter=12000).fit(mtx_train, mtx_train_y);\n",
    "# y_predict=trainedModel.predict(mtx_train);\n",
    "# print(y_predict);\n",
    "# print(\"done\");"
   ]
  },
  {
   "cell_type": "code",
   "execution_count": 6,
   "metadata": {},
   "outputs": [
    {
     "name": "stdout",
     "output_type": "stream",
     "text": [
      "[9 8 5 8 7 8 6 9 5 0 7 1 7 9 9 5 9 9 9 6 5 6 1 7 1 7 1 1 6 9 9 0 6 9 9 8 9\n",
      " 9 9 9 9 5 8 7 6 0 9 1 7 9 0 5 9 9 9 9 7 1 1 5 0 9 7 9 5 6 9 6 9 9 0 9 9 5\n",
      " 9 9 9 1 6 1 6 0 9 7 6 6 6 0 1 9 7 7 6 9 1 7 9 9 0 1]\n"
     ]
    }
   ],
   "source": [
    "y_predict=trainedModel.predict(mtx_test);\n",
    "print(y_predict);"
   ]
  },
  {
   "cell_type": "code",
   "execution_count": 7,
   "metadata": {},
   "outputs": [
    {
     "name": "stdout",
     "output_type": "stream",
     "text": [
      "(901, 42)\n"
     ]
    },
    {
     "name": "stderr",
     "output_type": "stream",
     "text": [
      "/home/yadnyesh/.local/lib/python3.6/site-packages/sklearn/linear_model/logistic.py:432: FutureWarning: Default solver will be changed to 'lbfgs' in 0.22. Specify a solver to silence this warning.\n",
      "  FutureWarning)\n",
      "/home/yadnyesh/.local/lib/python3.6/site-packages/sklearn/linear_model/logistic.py:469: FutureWarning: Default multi_class will be changed to 'auto' in 0.22. Specify the multi_class option to silence this warning.\n",
      "  \"this warning.\", FutureWarning)\n",
      "/home/yadnyesh/.local/lib/python3.6/site-packages/ipykernel_launcher.py:35: FutureWarning: \n",
      ".ix is deprecated. Please use\n",
      ".loc for label based indexing or\n",
      ".iloc for positional indexing\n",
      "\n",
      "See the documentation here:\n",
      "http://pandas.pydata.org/pandas-docs/stable/user_guide/indexing.html#ix-indexer-is-deprecated\n",
      "/home/yadnyesh/.local/lib/python3.6/site-packages/ipykernel_launcher.py:35: FutureWarning: \n",
      ".ix is deprecated. Please use\n",
      ".loc for label based indexing or\n",
      ".iloc for positional indexing\n",
      "\n",
      "See the documentation here:\n",
      "http://pandas.pydata.org/pandas-docs/stable/user_guide/indexing.html#ix-indexer-is-deprecated\n",
      "/home/yadnyesh/.local/lib/python3.6/site-packages/ipykernel_launcher.py:35: FutureWarning: \n",
      ".ix is deprecated. Please use\n",
      ".loc for label based indexing or\n",
      ".iloc for positional indexing\n",
      "\n",
      "See the documentation here:\n",
      "http://pandas.pydata.org/pandas-docs/stable/user_guide/indexing.html#ix-indexer-is-deprecated\n",
      "/home/yadnyesh/.local/lib/python3.6/site-packages/ipykernel_launcher.py:35: FutureWarning: \n",
      ".ix is deprecated. Please use\n",
      ".loc for label based indexing or\n",
      ".iloc for positional indexing\n",
      "\n",
      "See the documentation here:\n",
      "http://pandas.pydata.org/pandas-docs/stable/user_guide/indexing.html#ix-indexer-is-deprecated\n",
      "/home/yadnyesh/.local/lib/python3.6/site-packages/sklearn/svm/base.py:929: ConvergenceWarning: Liblinear failed to converge, increase the number of iterations.\n",
      "  \"the number of iterations.\", ConvergenceWarning)\n",
      "/home/yadnyesh/.local/lib/python3.6/site-packages/ipykernel_launcher.py:35: FutureWarning: \n",
      ".ix is deprecated. Please use\n",
      ".loc for label based indexing or\n",
      ".iloc for positional indexing\n",
      "\n",
      "See the documentation here:\n",
      "http://pandas.pydata.org/pandas-docs/stable/user_guide/indexing.html#ix-indexer-is-deprecated\n",
      "/home/yadnyesh/.local/lib/python3.6/site-packages/ipykernel_launcher.py:35: FutureWarning: \n",
      ".ix is deprecated. Please use\n",
      ".loc for label based indexing or\n",
      ".iloc for positional indexing\n",
      "\n",
      "See the documentation here:\n",
      "http://pandas.pydata.org/pandas-docs/stable/user_guide/indexing.html#ix-indexer-is-deprecated\n",
      "/home/yadnyesh/.local/lib/python3.6/site-packages/sklearn/ensemble/forest.py:245: FutureWarning: The default value of n_estimators will change from 10 in version 0.20 to 100 in 0.22.\n",
      "  \"10 in version 0.20 to 100 in 0.22.\", FutureWarning)\n"
     ]
    },
    {
     "name": "stdout",
     "output_type": "stream",
     "text": [
      "Done\n"
     ]
    },
    {
     "name": "stderr",
     "output_type": "stream",
     "text": [
      "/home/yadnyesh/.local/lib/python3.6/site-packages/ipykernel_launcher.py:35: FutureWarning: \n",
      ".ix is deprecated. Please use\n",
      ".loc for label based indexing or\n",
      ".iloc for positional indexing\n",
      "\n",
      "See the documentation here:\n",
      "http://pandas.pydata.org/pandas-docs/stable/user_guide/indexing.html#ix-indexer-is-deprecated\n"
     ]
    },
    {
     "data": {
      "text/html": [
       "<div>\n",
       "<style scoped>\n",
       "    .dataframe tbody tr th:only-of-type {\n",
       "        vertical-align: middle;\n",
       "    }\n",
       "\n",
       "    .dataframe tbody tr th {\n",
       "        vertical-align: top;\n",
       "    }\n",
       "\n",
       "    .dataframe thead th {\n",
       "        text-align: right;\n",
       "    }\n",
       "</style>\n",
       "<table border=\"1\" class=\"dataframe\">\n",
       "  <thead>\n",
       "    <tr style=\"text-align: right;\">\n",
       "      <th></th>\n",
       "      <th>Trained Misclassified Points</th>\n",
       "      <th>Trained Accuracy</th>\n",
       "      <th>Test Misclassified Points</th>\n",
       "      <th>Test Accuracy</th>\n",
       "    </tr>\n",
       "  </thead>\n",
       "  <tbody>\n",
       "    <tr>\n",
       "      <td>Decision Tree</td>\n",
       "      <td>191</td>\n",
       "      <td>78.8013</td>\n",
       "      <td>58</td>\n",
       "      <td>42</td>\n",
       "    </tr>\n",
       "    <tr>\n",
       "      <td>Random Forest</td>\n",
       "      <td>50</td>\n",
       "      <td>94.4506</td>\n",
       "      <td>38</td>\n",
       "      <td>62</td>\n",
       "    </tr>\n",
       "    <tr>\n",
       "      <td>K-Neighbors</td>\n",
       "      <td>323</td>\n",
       "      <td>64.1509</td>\n",
       "      <td>61</td>\n",
       "      <td>39</td>\n",
       "    </tr>\n",
       "    <tr>\n",
       "      <td>Logistic Regression</td>\n",
       "      <td>279</td>\n",
       "      <td>69.0344</td>\n",
       "      <td>35</td>\n",
       "      <td>65</td>\n",
       "    </tr>\n",
       "    <tr>\n",
       "      <td>Support Vector</td>\n",
       "      <td>433</td>\n",
       "      <td>51.9423</td>\n",
       "      <td>49</td>\n",
       "      <td>51</td>\n",
       "    </tr>\n",
       "    <tr>\n",
       "      <td>Bernoulli NB</td>\n",
       "      <td>711</td>\n",
       "      <td>21.0877</td>\n",
       "      <td>81</td>\n",
       "      <td>19</td>\n",
       "    </tr>\n",
       "    <tr>\n",
       "      <td>Gaussian NB</td>\n",
       "      <td>413</td>\n",
       "      <td>54.162</td>\n",
       "      <td>48</td>\n",
       "      <td>52</td>\n",
       "    </tr>\n",
       "  </tbody>\n",
       "</table>\n",
       "</div>"
      ],
      "text/plain": [
       "                    Trained Misclassified Points Trained Accuracy  \\\n",
       "Decision Tree                                191          78.8013   \n",
       "Random Forest                                 50          94.4506   \n",
       "K-Neighbors                                  323          64.1509   \n",
       "Logistic Regression                          279          69.0344   \n",
       "Support Vector                               433          51.9423   \n",
       "Bernoulli NB                                 711          21.0877   \n",
       "Gaussian NB                                  413           54.162   \n",
       "\n",
       "                    Test Misclassified Points Test Accuracy  \n",
       "Decision Tree                              58            42  \n",
       "Random Forest                              38            62  \n",
       "K-Neighbors                                61            39  \n",
       "Logistic Regression                        35            65  \n",
       "Support Vector                             49            51  \n",
       "Bernoulli NB                               81            19  \n",
       "Gaussian NB                                48            52  "
      ]
     },
     "execution_count": 7,
     "metadata": {},
     "output_type": "execute_result"
    }
   ],
   "source": [
    "x = trained_data\n",
    "print(x.shape)\n",
    "y = np.ravel(trained_y)\n",
    "y_test=np.ravel(test_y);\n",
    "\n",
    "index = [\"Decision Tree\", \"Random Forest\", \"K-Neighbors\",\n",
    "         \"Logistic Regression\", \"Support Vector\", \"Bernoulli NB\", \"Gaussian NB\"]\n",
    "columns = [\"Trained Misclassified Points\", \"Trained Accuracy\", \"Test Misclassified Points\", \"Test Accuracy\",]\n",
    "modelComparision = pandas.DataFrame(index=index, columns=columns)\n",
    "\n",
    "dtc = 0, DecisionTreeClassifier(min_samples_split=20)\n",
    "rfc = 1, RandomForestClassifier(min_samples_split=10)\n",
    "knn = 2, KNeighborsClassifier()\n",
    "lgr = 3, LogisticRegression(max_iter=20000)\n",
    "svc = 4, LinearSVC(max_iter=15000)\n",
    "bnb = 5, BernoulliNB()\n",
    "gnb = 6, GaussianNB()\n",
    "\n",
    "tr_size=len(x.index);\n",
    "tt_size=len(y_test);\n",
    "for i in lgr, gnb, bnb, dtc, svc, knn, rfc:    \n",
    "    model=i[1].fit(x, y);\n",
    "    y_pred = model.predict(x)\n",
    "    tr_misclassifedPoints = (y_pred != y).sum()  \n",
    "    tr_accuracy = ((tr_size - tr_misclassifedPoints)*100) / tr_size;\n",
    "    \n",
    "    y_pred = model.predict(test_data)\n",
    "    tt_misclassifedPoints = (y_pred != y_test).sum()  \n",
    "    tt_accuracy = ((tt_size - tt_misclassifedPoints)*100) / tt_size;\n",
    "    if(i[0]==0):\n",
    "        tree.export_graphviz(model,out_file='tree.dot');        \n",
    "    #print(misclassifedPoints,\":\",size - misclassifedPoints,':',accuracy);   \n",
    "    modelComparision.ix[i[0]] = [tr_misclassifedPoints, tr_accuracy, tt_misclassifedPoints, tt_accuracy,];\n",
    "    \n",
    "print(\"Done\");\n",
    "modelComparision"
   ]
  }
 ],
 "metadata": {
  "kernelspec": {
   "display_name": "Python 3",
   "language": "python",
   "name": "python3"
  },
  "language_info": {
   "codemirror_mode": {
    "name": "ipython",
    "version": 3
   },
   "file_extension": ".py",
   "mimetype": "text/x-python",
   "name": "python",
   "nbconvert_exporter": "python",
   "pygments_lexer": "ipython3",
   "version": "3.6.8"
  }
 },
 "nbformat": 4,
 "nbformat_minor": 2
}
